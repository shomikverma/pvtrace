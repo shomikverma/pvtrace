{
 "cells": [
  {
   "cell_type": "code",
   "execution_count": 3,
   "metadata": {},
   "outputs": [],
   "source": [
    "import time\n",
    "import sys\n",
    "import functools\n",
    "import numpy as np\n",
    "import trimesh\n",
    "from pvtrace import *\n",
    "import logging\n",
    "logging.getLogger('trimesh').setLevel(logging.CRITICAL)"
   ]
  },
  {
   "cell_type": "code",
   "execution_count": 4,
   "metadata": {},
   "outputs": [],
   "source": [
    "world = Node(\n",
    "    name=\"world (air)\",\n",
    "    geometry=Sphere(\n",
    "        radius=50.0,\n",
    "        material=Material(refractive_index=1.0),\n",
    "    )\n",
    ")"
   ]
  },
  {
   "cell_type": "code",
   "execution_count": 5,
   "metadata": {},
   "outputs": [],
   "source": [
    "box = Node(\n",
    "    name=\"box (glass)\",\n",
    "    geometry = Mesh(\n",
    "        trimesh = trimesh.load('colortest4.gltf').dump().sum(),\n",
    "        material = Material(\n",
    "            refractive_index = 1.5,\n",
    "            components = [\n",
    "                Absorber(coefficient = 0.525),\n",
    "                ]\n",
    "        ),\n",
    "    ),\n",
    "    parent=world\n",
    ")\n"
   ]
  },
  {
   "cell_type": "markdown",
   "metadata": {},
   "source": [
    "Unfortunately the trimesh has lost its color properties:"
   ]
  },
  {
   "cell_type": "code",
   "execution_count": 335,
   "metadata": {},
   "outputs": [
    {
     "data": {
      "text/plain": [
       "TrackedArray([[102, 102, 102, 255],\n",
       "              [102, 102, 102, 255],\n",
       "              [102, 102, 102, 255],\n",
       "              [102, 102, 102, 255],\n",
       "              [102, 102, 102, 255],\n",
       "              [102, 102, 102, 255],\n",
       "              [102, 102, 102, 255],\n",
       "              [102, 102, 102, 255],\n",
       "              [102, 102, 102, 255],\n",
       "              [102, 102, 102, 255],\n",
       "              [102, 102, 102, 255],\n",
       "              [102, 102, 102, 255],\n",
       "              [102, 102, 102, 255],\n",
       "              [102, 102, 102, 255],\n",
       "              [102, 102, 102, 255],\n",
       "              [102, 102, 102, 255],\n",
       "              [102, 102, 102, 255],\n",
       "              [102, 102, 102, 255],\n",
       "              [102, 102, 102, 255],\n",
       "              [102, 102, 102, 255],\n",
       "              [102, 102, 102, 255],\n",
       "              [102, 102, 102, 255],\n",
       "              [102, 102, 102, 255],\n",
       "              [102, 102, 102, 255],\n",
       "              [102, 102, 102, 255],\n",
       "              [102, 102, 102, 255],\n",
       "              [102, 102, 102, 255],\n",
       "              [102, 102, 102, 255]], dtype=uint8)"
      ]
     },
     "execution_count": 335,
     "metadata": {},
     "output_type": "execute_result"
    }
   ],
   "source": [
    "box.geometry.trimesh.visual.vertex_colors"
   ]
  },
  {
   "cell_type": "markdown",
   "metadata": {},
   "source": [
    "But we can create facets by loading the gltf _before_ defining it in the geometry and saving the color data for each face (triangle) into a dataframe."
   ]
  },
  {
   "cell_type": "code",
   "execution_count": 336,
   "metadata": {},
   "outputs": [],
   "source": [
    "trimesh2 = trimesh.load('colortest4.gltf')"
   ]
  },
  {
   "cell_type": "code",
   "execution_count": 337,
   "metadata": {},
   "outputs": [
    {
     "data": {
      "text/html": [
       "<div>\n",
       "<style scoped>\n",
       "    .dataframe tbody tr th:only-of-type {\n",
       "        vertical-align: middle;\n",
       "    }\n",
       "\n",
       "    .dataframe tbody tr th {\n",
       "        vertical-align: top;\n",
       "    }\n",
       "\n",
       "    .dataframe thead th {\n",
       "        text-align: right;\n",
       "    }\n",
       "</style>\n",
       "<table border=\"1\" class=\"dataframe\">\n",
       "  <thead>\n",
       "    <tr style=\"text-align: right;\">\n",
       "      <th></th>\n",
       "      <th>vertices</th>\n",
       "      <th>colors</th>\n",
       "    </tr>\n",
       "  </thead>\n",
       "  <tbody>\n",
       "    <tr>\n",
       "      <th>0</th>\n",
       "      <td>[1.0, -0.3333333333333333, -0.33333317438761395]</td>\n",
       "      <td>[5, 0, 163, 255]</td>\n",
       "    </tr>\n",
       "    <tr>\n",
       "      <th>1</th>\n",
       "      <td>[0.3333331346511841, -0.3333333333333333, 1.00...</td>\n",
       "      <td>[5, 0, 163, 255]</td>\n",
       "    </tr>\n",
       "    <tr>\n",
       "      <th>2</th>\n",
       "      <td>[-0.9999999006589254, -0.3333333333333333, -0....</td>\n",
       "      <td>[5, 0, 163, 255]</td>\n",
       "    </tr>\n",
       "    <tr>\n",
       "      <th>3</th>\n",
       "      <td>[0.3333333333333333, 0.3333333333333333, -0.99...</td>\n",
       "      <td>[5, 0, 163, 255]</td>\n",
       "    </tr>\n",
       "    <tr>\n",
       "      <th>4</th>\n",
       "      <td>[0.9999998013178507, 0.3333333333333333, 0.333...</td>\n",
       "      <td>[5, 0, 163, 255]</td>\n",
       "    </tr>\n",
       "    <tr>\n",
       "      <th>5</th>\n",
       "      <td>[-0.3333335320154826, 0.3333333333333333, 1.00...</td>\n",
       "      <td>[5, 0, 163, 255]</td>\n",
       "    </tr>\n",
       "    <tr>\n",
       "      <th>6</th>\n",
       "      <td>[-1.0, 0.3333333333333333, 0.33333317438761395]</td>\n",
       "      <td>[5, 0, 163, 255]</td>\n",
       "    </tr>\n",
       "    <tr>\n",
       "      <th>7</th>\n",
       "      <td>[-0.3333332339922587, -0.3333333333333333, -1.0]</td>\n",
       "      <td>[5, 0, 163, 255]</td>\n",
       "    </tr>\n",
       "    <tr>\n",
       "      <th>8</th>\n",
       "      <td>[0.3333331346511841, 1.0, -0.3333328564961751]</td>\n",
       "      <td>[163, 0, 0, 255]</td>\n",
       "    </tr>\n",
       "    <tr>\n",
       "      <th>9</th>\n",
       "      <td>[-0.3333335320154826, 1.0, 0.3333335518836975]</td>\n",
       "      <td>[163, 0, 0, 255]</td>\n",
       "    </tr>\n",
       "    <tr>\n",
       "      <th>10</th>\n",
       "      <td>[-0.3333332339922587, -1.0, -0.3333333929379781]</td>\n",
       "      <td>[163, 149, 0, 255]</td>\n",
       "    </tr>\n",
       "    <tr>\n",
       "      <th>11</th>\n",
       "      <td>[0.3333333333333333, -1.0, 0.33333327372868854]</td>\n",
       "      <td>[163, 149, 0, 255]</td>\n",
       "    </tr>\n",
       "  </tbody>\n",
       "</table>\n",
       "</div>"
      ],
      "text/plain": [
       "                                             vertices              colors\n",
       "0    [1.0, -0.3333333333333333, -0.33333317438761395]    [5, 0, 163, 255]\n",
       "1   [0.3333331346511841, -0.3333333333333333, 1.00...    [5, 0, 163, 255]\n",
       "2   [-0.9999999006589254, -0.3333333333333333, -0....    [5, 0, 163, 255]\n",
       "3   [0.3333333333333333, 0.3333333333333333, -0.99...    [5, 0, 163, 255]\n",
       "4   [0.9999998013178507, 0.3333333333333333, 0.333...    [5, 0, 163, 255]\n",
       "5   [-0.3333335320154826, 0.3333333333333333, 1.00...    [5, 0, 163, 255]\n",
       "6     [-1.0, 0.3333333333333333, 0.33333317438761395]    [5, 0, 163, 255]\n",
       "7    [-0.3333332339922587, -0.3333333333333333, -1.0]    [5, 0, 163, 255]\n",
       "8      [0.3333331346511841, 1.0, -0.3333328564961751]    [163, 0, 0, 255]\n",
       "9      [-0.3333335320154826, 1.0, 0.3333335518836975]    [163, 0, 0, 255]\n",
       "10   [-0.3333332339922587, -1.0, -0.3333333929379781]  [163, 149, 0, 255]\n",
       "11    [0.3333333333333333, -1.0, 0.33333327372868854]  [163, 149, 0, 255]"
      ]
     },
     "execution_count": 337,
     "metadata": {},
     "output_type": "execute_result"
    }
   ],
   "source": [
    "import pandas as pd\n",
    "df = pd.DataFrame(columns=['vertices','colors'])\n",
    "vert = []\n",
    "colvert = []\n",
    "for k in range(len(trimesh2.geometry)):\n",
    "    for j in trimesh2.dump()[k].triangles_center:\n",
    "        color = trimesh2.dump()[k].visual.to_color().vertex_colors\n",
    "        vert.append(j)\n",
    "        colvert.append(color)\n",
    "df['vertices']=vert\n",
    "df['colors']=colvert\n",
    "df"
   ]
  },
  {
   "cell_type": "markdown",
   "metadata": {},
   "source": [
    "Now when we define the trimesh within the geometry we can cross-reference each triangle's location with the previously defined dataframe to get its color, and then create the facets from there."
   ]
  },
  {
   "cell_type": "code",
   "execution_count": 339,
   "metadata": {},
   "outputs": [
    {
     "name": "stdout",
     "output_type": "stream",
     "text": [
      "[5, 0, 163, 255]\n",
      "[5, 0, 163, 255]\n",
      "[5, 0, 163, 255]\n",
      "[5, 0, 163, 255]\n",
      "[5, 0, 163, 255]\n",
      "[5, 0, 163, 255]\n",
      "[5, 0, 163, 255]\n",
      "[5, 0, 163, 255]\n",
      "[163, 0, 0, 255]\n",
      "[163, 0, 0, 255]\n",
      "[163, 149, 0, 255]\n",
      "[163, 149, 0, 255]\n"
     ]
    }
   ],
   "source": [
    "all_colors = []\n",
    "for k in range(len(box.geometry.trimesh.triangles_center)):\n",
    "    match = next((elem for elem in df['vertices'].values if np.allclose(elem, box.geometry.trimesh.triangles_center[k])), False)\n",
    "    trueWhere = df[df['vertices'].values.tolist()==match].index.values\n",
    "    getColor = next(elem for elem in trueWhere if trueWhere.tolist().count(elem)==3)\n",
    "    color = df['colors'].iloc[getColor].tolist()\n",
    "    print(color)\n",
    "    all_colors.append(color)"
   ]
  },
  {
   "cell_type": "code",
   "execution_count": 344,
   "metadata": {},
   "outputs": [],
   "source": [
    "from webcolors import rgb_to_name"
   ]
  },
  {
   "cell_type": "code",
   "execution_count": 358,
   "metadata": {},
   "outputs": [
    {
     "name": "stdout",
     "output_type": "stream",
     "text": [
      "darkblue\n",
      "darkblue\n",
      "darkblue\n",
      "darkblue\n",
      "darkblue\n",
      "darkblue\n",
      "darkblue\n",
      "darkblue\n",
      "darkred\n",
      "darkred\n",
      "darkgoldenrod\n",
      "darkgoldenrod\n"
     ]
    }
   ],
   "source": [
    "def closest_colour(requested_colour):\n",
    "    min_colours = {}\n",
    "    for key, name in webcolors.css3_hex_to_names.items():\n",
    "        r_c, g_c, b_c = webcolors.hex_to_rgb(key)\n",
    "        rd = (r_c - requested_colour[0]) ** 2\n",
    "        gd = (g_c - requested_colour[1]) ** 2\n",
    "        bd = (b_c - requested_colour[2]) ** 2\n",
    "        min_colours[(rd + gd + bd)] = name\n",
    "    return min_colours[min(min_colours.keys())]\n",
    "\n",
    "def get_colour_name(requested_colour):\n",
    "    try:\n",
    "        closest_name = actual_name = webcolors.rgb_to_name(requested_colour)\n",
    "    except ValueError:\n",
    "        closest_name = closest_colour(requested_colour)\n",
    "        actual_name = None\n",
    "    return actual_name, closest_name\n",
    "\n",
    "for requested_colour in all_colors:\n",
    "    actual_name, closest_name = get_colour_name((requested_colour[0],requested_colour[1], requested_colour[2]))\n",
    "    print(closest_name)"
   ]
  },
  {
   "cell_type": "code",
   "execution_count": null,
   "metadata": {},
   "outputs": [],
   "source": []
  }
 ],
 "metadata": {
  "kernelspec": {
   "display_name": "pvtrace-env",
   "language": "python",
   "name": "pvtrace-env"
  },
  "language_info": {
   "codemirror_mode": {
    "name": "ipython",
    "version": 3
   },
   "file_extension": ".py",
   "mimetype": "text/x-python",
   "name": "python",
   "nbconvert_exporter": "python",
   "pygments_lexer": "ipython3",
   "version": "3.8.5"
  }
 },
 "nbformat": 4,
 "nbformat_minor": 4
}
